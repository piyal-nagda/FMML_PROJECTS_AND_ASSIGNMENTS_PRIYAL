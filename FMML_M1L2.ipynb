{
  "cells": [
    {
      "cell_type": "markdown",
      "metadata": {
        "id": "view-in-github",
        "colab_type": "text"
      },
      "source": [
        "<a href=\"https://colab.research.google.com/github/piyal-nagda/FMML_PROJECTS_AND_ASSIGNMENTS_PRIYAL/blob/main/FMML_M1L2.ipynb\" target=\"_parent\"><img src=\"https://colab.research.google.com/assets/colab-badge.svg\" alt=\"Open In Colab\"/></a>"
      ]
    },
    {
      "cell_type": "markdown",
      "metadata": {
        "id": "3Eu9VZbF01eq"
      },
      "source": [
        "# Machine Learning terms and metrics\n",
        "\n",
        "FMML Module 1, Lab 2\n",
        "\n",
        "In this lab, we will show a part of the ML pipeline by using the California Housing dataset. There are 20640 samples, each with 8 attributes like income of the block, age of the houses per district etc. The task is to predict the cost of the houses per district. We will use the scikit-learn library to load the data and perform some basic data preprocessing and model training. We will also show how to evaluate the model using some common metrics, split the data into training and testing sets, and use cross-validation to get a better estimate of the model's performance."
      ]
    },
    {
      "cell_type": "code",
      "execution_count": 3,
      "metadata": {
        "id": "8qBvyEem0vLi"
      },
      "outputs": [],
      "source": [
        "import numpy as np\n",
        "from sklearn import datasets\n",
        "import matplotlib.pyplot as plt\n",
        "\n",
        "rng = np.random.default_rng(seed=42)"
      ]
    },
    {
      "cell_type": "code",
      "execution_count": 4,
      "metadata": {
        "colab": {
          "base_uri": "https://localhost:8080/"
        },
        "id": "8LpqjN991GGJ",
        "outputId": "8022993b-8d1e-4254-b5dd-b270c3e335a7"
      },
      "outputs": [
        {
          "output_type": "stream",
          "name": "stdout",
          "text": [
            ".. _california_housing_dataset:\n",
            "\n",
            "California Housing dataset\n",
            "--------------------------\n",
            "\n",
            "**Data Set Characteristics:**\n",
            "\n",
            "    :Number of Instances: 20640\n",
            "\n",
            "    :Number of Attributes: 8 numeric, predictive attributes and the target\n",
            "\n",
            "    :Attribute Information:\n",
            "        - MedInc        median income in block group\n",
            "        - HouseAge      median house age in block group\n",
            "        - AveRooms      average number of rooms per household\n",
            "        - AveBedrms     average number of bedrooms per household\n",
            "        - Population    block group population\n",
            "        - AveOccup      average number of household members\n",
            "        - Latitude      block group latitude\n",
            "        - Longitude     block group longitude\n",
            "\n",
            "    :Missing Attribute Values: None\n",
            "\n",
            "This dataset was obtained from the StatLib repository.\n",
            "https://www.dcc.fc.up.pt/~ltorgo/Regression/cal_housing.html\n",
            "\n",
            "The target variable is the median house value for California districts,\n",
            "expressed in hundreds of thousands of dollars ($100,000).\n",
            "\n",
            "This dataset was derived from the 1990 U.S. census, using one row per census\n",
            "block group. A block group is the smallest geographical unit for which the U.S.\n",
            "Census Bureau publishes sample data (a block group typically has a population\n",
            "of 600 to 3,000 people).\n",
            "\n",
            "A household is a group of people residing within a home. Since the average\n",
            "number of rooms and bedrooms in this dataset are provided per household, these\n",
            "columns may take surprisingly large values for block groups with few households\n",
            "and many empty houses, such as vacation resorts.\n",
            "\n",
            "It can be downloaded/loaded using the\n",
            ":func:`sklearn.datasets.fetch_california_housing` function.\n",
            "\n",
            ".. topic:: References\n",
            "\n",
            "    - Pace, R. Kelley and Ronald Barry, Sparse Spatial Autoregressions,\n",
            "      Statistics and Probability Letters, 33 (1997) 291-297\n",
            "\n"
          ]
        }
      ],
      "source": [
        "dataset = datasets.fetch_california_housing()\n",
        "# Dataset description\n",
        "print(dataset.DESCR)"
      ]
    },
    {
      "cell_type": "markdown",
      "metadata": {
        "id": "PCe1VNftevgE"
      },
      "source": [
        "Given below are the list of target values. These correspond to the house value derived considering all the 8 input features and are continuous values. We should use regression models to predict these values but we will start with a simple classification model for the sake of simplicity. We need to just round off the values to the nearest integer and use a classification model to predict the house value."
      ]
    },
    {
      "cell_type": "code",
      "execution_count": 5,
      "metadata": {
        "colab": {
          "base_uri": "https://localhost:8080/"
        },
        "id": "F8K0ggBOevgE",
        "outputId": "8de4f317-2aec-41c3-9f38-c9443e9efbdb"
      },
      "outputs": [
        {
          "output_type": "stream",
          "name": "stdout",
          "text": [
            "Orignal target values: [4.526 3.585 3.521 ... 0.923 0.847 0.894]\n",
            "Target values after conversion: [4 3 3 ... 0 0 0]\n",
            "Input variables shape: (20640, 8)\n",
            "Output variables shape: (20640,)\n"
          ]
        }
      ],
      "source": [
        "print(\"Orignal target values:\", dataset.target)\n",
        "\n",
        "dataset.target = dataset.target.astype(int)\n",
        "\n",
        "print(\"Target values after conversion:\", dataset.target)\n",
        "print(\"Input variables shape:\", dataset.data.shape)\n",
        "print(\"Output variables shape:\", dataset.target.shape)"
      ]
    },
    {
      "cell_type": "markdown",
      "metadata": {
        "id": "iNx4174W5xRg"
      },
      "source": [
        "The simplest model to use for classification is the K-Nearest Neighbors model. We will use this model to predict the house value with a K value of 1. We will also use the accuracy metric to evaluate the model."
      ]
    },
    {
      "cell_type": "code",
      "execution_count": 6,
      "metadata": {
        "id": "07zpydQj1hIQ"
      },
      "outputs": [],
      "source": [
        "def NN1(traindata, trainlabel, query):\n",
        "    \"\"\"\n",
        "    This function takes in the training data, training labels and a query point\n",
        "    and returns the predicted label for the query point using the nearest neighbour algorithm\n",
        "\n",
        "    traindata: numpy array of shape (n,d) where n is the number of samples and d is the number of features\n",
        "    trainlabel: numpy array of shape (n,) where n is the number of samples\n",
        "    query: numpy array of shape (d,) where d is the number of features\n",
        "\n",
        "    returns: the predicted label for the query point which is the label of the training data which is closest to the query point\n",
        "    \"\"\"\n",
        "    diff = (\n",
        "        traindata - query\n",
        "    )  # find the difference between features. Numpy automatically takes care of the size here\n",
        "    sq = diff * diff  # square the differences\n",
        "    dist = sq.sum(1)  # add up the squares\n",
        "    label = trainlabel[np.argmin(dist)]\n",
        "    return label\n",
        "\n",
        "\n",
        "def NN(traindata, trainlabel, testdata):\n",
        "    \"\"\"\n",
        "    This function takes in the training data, training labels and test data\n",
        "    and returns the predicted labels for the test data using the nearest neighbour algorithm\n",
        "\n",
        "    traindata: numpy array of shape (n,d) where n is the number of samples and d is the number of features\n",
        "    trainlabel: numpy array of shape (n,) where n is the number of samples\n",
        "    testdata: numpy array of shape (m,d) where m is the number of test samples and d is the number of features\n",
        "\n",
        "    returns: the predicted labels for the test data which is the label of the training data which is closest to each test point\n",
        "    \"\"\"\n",
        "    predlabel = np.array([NN1(traindata, trainlabel, i) for i in testdata])\n",
        "    return predlabel"
      ]
    },
    {
      "cell_type": "markdown",
      "metadata": {
        "id": "03JktkfIGaje"
      },
      "source": [
        "We will also define a 'random classifier', which randomly allots labels to each sample"
      ]
    },
    {
      "cell_type": "code",
      "execution_count": 7,
      "metadata": {
        "id": "fogWAtjyGhAH"
      },
      "outputs": [],
      "source": [
        "def RandomClassifier(traindata, trainlabel, testdata):\n",
        "    \"\"\"\n",
        "    This function takes in the training data, training labels and test data\n",
        "    and returns the predicted labels for the test data using the random classifier algorithm\n",
        "\n",
        "    In reality, we don't need these arguments but we are passing them to keep the function signature consistent with other classifiers\n",
        "\n",
        "    traindata: numpy array of shape (n,d) where n is the number of samples and d is the number of features\n",
        "    trainlabel: numpy array of shape (n,) where n is the number of samples\n",
        "    testdata: numpy array of shape (m,d) where m is the number of test samples and d is the number of features\n",
        "\n",
        "    returns: the predicted labels for the test data which is a random label from the training data\n",
        "    \"\"\"\n",
        "\n",
        "    classes = np.unique(trainlabel)\n",
        "    rints = rng.integers(low=0, high=len(classes), size=len(testdata))\n",
        "    predlabel = classes[rints]\n",
        "    return predlabel"
      ]
    },
    {
      "cell_type": "markdown",
      "metadata": {
        "id": "1Hjf1KHs7fU5"
      },
      "source": [
        "We need a metric to evaluate the performance of the model. Let us define a metric 'Accuracy' to see how good our learning algorithm is. Accuracy is the ratio of the number of correctly classified samples to the total number of samples. The higher the accuracy, the better the algorithm. We will use the accuracy metric to evaluate and compate the performance of the K-Nearest Neighbors model and the random classifier."
      ]
    },
    {
      "cell_type": "code",
      "execution_count": 8,
      "metadata": {
        "id": "ouuCqWU07bz-"
      },
      "outputs": [],
      "source": [
        "def Accuracy(gtlabel, predlabel):\n",
        "    \"\"\"\n",
        "    This function takes in the ground-truth labels and predicted labels\n",
        "    and returns the accuracy of the classifier\n",
        "\n",
        "    gtlabel: numpy array of shape (n,) where n is the number of samples\n",
        "    predlabel: numpy array of shape (n,) where n is the number of samples\n",
        "\n",
        "    returns: the accuracy of the classifier which is the number of correct predictions divided by the total number of predictions\n",
        "    \"\"\"\n",
        "    assert len(gtlabel) == len(\n",
        "        predlabel\n",
        "    ), \"Length of the ground-truth labels and predicted labels should be the same\"\n",
        "    correct = (\n",
        "        gtlabel == predlabel\n",
        "    ).sum()  # count the number of times the groundtruth label is equal to the predicted label.\n",
        "    return correct / len(gtlabel)"
      ]
    },
    {
      "cell_type": "markdown",
      "metadata": {
        "id": "4vJFwBFa9Klw"
      },
      "source": [
        "Let us make a function to split the dataset with the desired probability. We will use this function to split the dataset into training and testing sets. We will use the training set to train the model and the testing set to evaluate the model."
      ]
    },
    {
      "cell_type": "code",
      "execution_count": 9,
      "metadata": {
        "id": "Ko0VzpSM2Tdi"
      },
      "outputs": [],
      "source": [
        "def split(data, label, percent):\n",
        "    # generate a random number for each sample\n",
        "    rnd = rng.random(len(label))\n",
        "    split1 = rnd < percent\n",
        "    split2 = rnd >= percent\n",
        "\n",
        "    split1data = data[split1, :]\n",
        "    split1label = label[split1]\n",
        "    split2data = data[split2, :]\n",
        "    split2label = label[split2]\n",
        "    return split1data, split1label, split2data, split2label"
      ]
    },
    {
      "cell_type": "markdown",
      "metadata": {
        "id": "AcK3LEAJ_LGC"
      },
      "source": [
        "We will reserve 20% of our dataset as the test set. We will not change this portion throughout our experiments"
      ]
    },
    {
      "cell_type": "code",
      "execution_count": 10,
      "metadata": {
        "colab": {
          "base_uri": "https://localhost:8080/"
        },
        "id": "bBZkHBLJ1iU-",
        "outputId": "2997e1a9-46ab-4a7f-981f-97ab7e68bb4a"
      },
      "outputs": [
        {
          "output_type": "stream",
          "name": "stdout",
          "text": [
            "Number of test samples: 4144\n",
            "Number of train samples: 16496\n",
            "Percent of test data: 20.07751937984496 %\n"
          ]
        }
      ],
      "source": [
        "testdata, testlabel, alltraindata, alltrainlabel = split(\n",
        "    dataset.data, dataset.target, 20 / 100\n",
        ")\n",
        "print(\"Number of test samples:\", len(testlabel))\n",
        "print(\"Number of train samples:\", len(alltrainlabel))\n",
        "print(\"Percent of test data:\", len(testlabel) * 100 / len(dataset.target), \"%\")"
      ]
    },
    {
      "cell_type": "markdown",
      "metadata": {
        "id": "a6Ss0Z6IAGNV"
      },
      "source": [
        "## Experiments with splits\n",
        "\n",
        "Let us reserve some of our train data as a validation set"
      ]
    },
    {
      "cell_type": "code",
      "execution_count": 11,
      "metadata": {
        "id": "WFew2iry_7W7"
      },
      "outputs": [],
      "source": [
        "traindata, trainlabel, valdata, vallabel = split(\n",
        "    alltraindata, alltrainlabel, 75 / 100)"
      ]
    },
    {
      "cell_type": "markdown",
      "metadata": {
        "id": "60hiu4clFN1i"
      },
      "source": [
        "What is the accuracy of our classifiers on the train dataset?"
      ]
    },
    {
      "cell_type": "code",
      "execution_count": 12,
      "metadata": {
        "colab": {
          "base_uri": "https://localhost:8080/"
        },
        "id": "DBlZDTHUFTZx",
        "outputId": "e8602687-f425-4395-8b4b-64b9a39bfed7"
      },
      "outputs": [
        {
          "output_type": "stream",
          "name": "stdout",
          "text": [
            "Training accuracy using nearest neighbour algorithm: 100.0 %\n",
            "Training accuracy using random classifier:  16.4375808538163 %\n"
          ]
        }
      ],
      "source": [
        "trainpred = NN(traindata, trainlabel, traindata)\n",
        "trainAccuracy = Accuracy(trainlabel, trainpred)\n",
        "print(\"Training accuracy using nearest neighbour algorithm:\", trainAccuracy*100, \"%\")\n",
        "\n",
        "trainpred = RandomClassifier(traindata, trainlabel, traindata)\n",
        "trainAccuracy = Accuracy(trainlabel, trainpred)\n",
        "print(\"Training accuracy using random classifier: \", trainAccuracy*100, \"%\")"
      ]
    },
    {
      "cell_type": "markdown",
      "metadata": {
        "id": "7h08-9gJDtSy"
      },
      "source": [
        "For nearest neighbour, the train accuracy is always 1. The accuracy of the random classifier is close to 1/(number of classes) which is 0.1666 in our case. This is because the random classifier randomly assigns a label to each sample and the probability of assigning the correct label is 1/(number of classes). Let us predict the labels for our validation set and get the accuracy. This accuracy is a good estimate of the accuracy of our model on unseen data."
      ]
    },
    {
      "cell_type": "code",
      "execution_count": 13,
      "metadata": {
        "colab": {
          "base_uri": "https://localhost:8080/"
        },
        "id": "4h7bXoW_2H3v",
        "outputId": "79fb55a5-9d67-489a-8a22-a741259a315b"
      },
      "outputs": [
        {
          "output_type": "stream",
          "name": "stdout",
          "text": [
            "Validation accuracy using nearest neighbour algorithm: 34.10852713178294 %\n",
            "Validation accuracy using random classifier: 16.884689922480618 %\n"
          ]
        }
      ],
      "source": [
        "valpred = NN(traindata, trainlabel, valdata)\n",
        "valAccuracy = Accuracy(vallabel, valpred)\n",
        "print(\"Validation accuracy using nearest neighbour algorithm:\", valAccuracy*100, \"%\")\n",
        "\n",
        "\n",
        "valpred = RandomClassifier(traindata, trainlabel, valdata)\n",
        "valAccuracy = Accuracy(vallabel, valpred)\n",
        "print(\"Validation accuracy using random classifier:\", valAccuracy*100, \"%\")"
      ]
    },
    {
      "cell_type": "markdown",
      "metadata": {
        "id": "py9bLguFEjfg"
      },
      "source": [
        "Validation accuracy of nearest neighbour is considerably less than its train accuracy while the validation accuracy of random classifier is the same. However, the validation accuracy of nearest neighbour is twice that of the random classifier. Now let us try another random split and check the validation accuracy. We will see that the validation accuracy changes with the split. This is because the validation set is small and the accuracy is highly dependent on the samples in the validation set. We can get a better estimate of the accuracy by using cross-validation."
      ]
    },
    {
      "cell_type": "code",
      "execution_count": 14,
      "metadata": {
        "colab": {
          "base_uri": "https://localhost:8080/"
        },
        "id": "ujm3cyYzEntE",
        "outputId": "bbd96da0-00c0-4373-8703-75ff006105b1"
      },
      "outputs": [
        {
          "output_type": "stream",
          "name": "stdout",
          "text": [
            "Validation accuracy using nearest neighbour algorithm: 34.048257372654156 %\n"
          ]
        }
      ],
      "source": [
        "traindata, trainlabel, valdata, vallabel = split(\n",
        "    alltraindata, alltrainlabel, 75 / 100)\n",
        "valpred = NN(traindata, trainlabel, valdata)\n",
        "valAccuracy = Accuracy(vallabel, valpred)\n",
        "print(\"Validation accuracy using nearest neighbour algorithm:\", valAccuracy*100, \"%\")"
      ]
    },
    {
      "cell_type": "markdown",
      "metadata": {
        "id": "oSOx7U83EKie"
      },
      "source": [
        "You can run the above cell multiple times to try with different random splits.\n",
        "We notice that the accuracy is different for each run, but close together.\n",
        "\n",
        "Now let us compare it with the accuracy we get on the test dataset."
      ]
    },
    {
      "cell_type": "code",
      "execution_count": 15,
      "metadata": {
        "colab": {
          "base_uri": "https://localhost:8080/"
        },
        "id": "PNEZ5ToYBEDW",
        "outputId": "57301f60-a535-4c60-b499-0ec4d8ddf22b"
      },
      "outputs": [
        {
          "output_type": "stream",
          "name": "stdout",
          "text": [
            "Test accuracy: 34.91795366795367 %\n"
          ]
        }
      ],
      "source": [
        "testpred = NN(alltraindata, alltrainlabel, testdata)\n",
        "testAccuracy = Accuracy(testlabel, testpred)\n",
        "\n",
        "print(\"Test accuracy:\", testAccuracy*100, \"%\")"
      ]
    },
    {
      "cell_type": "markdown",
      "metadata": {
        "id": "w3dGD531K3gH"
      },
      "source": [
        "### Try it out for yourself and answer:\n",
        "1. How is the accuracy of the validation set affected if we increase the percentage of validation set? What happens when we reduce it?\n",
        "2. How does the size of the train and validation set affect how well we can predict the accuracy on the test set using the validation set?\n",
        "3. What do you think is a good percentage to reserve for the validation set so that thest two factors are balanced?\n",
        "\n",
        "Answer for both nearest neighbour and random classifier. You can note down the values for your experiments and plot a graph using  <a href=https://matplotlib.org/stable/gallery/lines_bars_and_markers/step_demo.html#sphx-glr-gallery-lines-bars-and-markers-step-demo-py>plt.plot<href>. Check also for extreme values for splits, like 99.9% or 0.1%"
      ]
    },
    {
      "cell_type": "markdown",
      "source": [
        " 1. How is the accuracy of the validation set affected if we increase the percentage of validation set? What happens when we reduce it?\n",
        "\n",
        "\n",
        " As the validation percentage increases the random classifier accuracy remains almost same where as the nearest nieghbour accuracy decreases. so when we decrease the validation percentage the accuracy increases . a code to understand :\n",
        ""
      ],
      "metadata": {
        "id": "bmjxsGjKAtEJ"
      }
    },
    {
      "cell_type": "code",
      "source": [
        "a= [10,20,30,40,50,60,70,80,90]\n",
        "axaxis=[]\n",
        "ayaxis=[]\n",
        "for x in a:\n",
        "  traindata, trainlabel, valdata, vallabel = split(alltraindata, alltrainlabel, x/100)\n",
        "  valpred = NN(traindata, trainlabel, valdata)\n",
        "  valAccuracy = Accuracy(vallabel, valpred)\n",
        "  print(\"Validation accuracy of nearest neighbour is when val is\", 100-x ,\"percent \", valAccuracy)\n",
        "  ayaxis.append(valAccuracy)\n",
        "  axaxis.append(100-x)\n",
        "print(\"\")\n",
        "for x in a:\n",
        "  traindata, trainlabel, valdata, vallabel = split(alltraindata, alltrainlabel, x/100)\n",
        "  valpred = RandomClassifier(traindata, trainlabel, valdata)\n",
        "  valAccuracy = Accuracy(vallabel, valpred)\n",
        "  print(\"Validation accuracy of random classifier is when val is\", 100-x ,\"percent \", valAccuracy)\n",
        "\n",
        ""
      ],
      "metadata": {
        "id": "h1VSVnQEA532",
        "outputId": "78c04d24-ff29-4c0b-895d-0d308169e370",
        "colab": {
          "base_uri": "https://localhost:8080/"
        }
      },
      "execution_count": 17,
      "outputs": [
        {
          "output_type": "stream",
          "name": "stdout",
          "text": [
            "Validation accuracy of nearest neighbour is when val is 90 percent  0.36123076923076924\n",
            "Validation accuracy of nearest neighbour is when val is 80 percent  0.34057971014492755\n",
            "Validation accuracy of nearest neighbour is when val is 70 percent  0.35547576301615796\n",
            "Validation accuracy of nearest neighbour is when val is 60 percent  0.351875\n",
            "Validation accuracy of nearest neighbour is when val is 50 percent  0.3343483556638246\n",
            "Validation accuracy of nearest neighbour is when val is 40 percent  0.3582887700534759\n",
            "Validation accuracy of nearest neighbour is when val is 30 percent  0.3320872274143302\n",
            "Validation accuracy of nearest neighbour is when val is 20 percent  0.3541540327471195\n",
            "Validation accuracy of nearest neighbour is when val is 10 percent  0.3616759088108441\n",
            "\n",
            "Validation accuracy of random classifier is when val is 90 percent  0.15995189416716776\n",
            "Validation accuracy of random classifier is when val is 80 percent  0.15228113440197288\n",
            "Validation accuracy of random classifier is when val is 70 percent  0.16080097087378642\n",
            "Validation accuracy of random classifier is when val is 60 percent  0.1675741076830006\n",
            "Validation accuracy of random classifier is when val is 50 percent  0.16380839739798936\n",
            "Validation accuracy of random classifier is when val is 40 percent  0.15955473098330242\n",
            "Validation accuracy of random classifier is when val is 30 percent  0.17686658506731945\n",
            "Validation accuracy of random classifier is when val is 20 percent  0.17110973341599503\n",
            "Validation accuracy of random classifier is when val is 10 percent  0.1596842744383728\n"
          ]
        }
      ]
    },
    {
      "cell_type": "markdown",
      "source": [
        "2 answer: even thought the train data increases the accuracy remains samewhere as increase in validation data result in decrease of NN accuracy\n",
        "the test accuracy remains constant even when we alter the train percentagecode for the above:\n"
      ],
      "metadata": {
        "id": "E_rXcccp_gVY"
      }
    },
    {
      "cell_type": "code",
      "source": [
        "a= [10,20,30,40,50,60,70,80,90]\n",
        "for x in a:\n",
        "  traindata, trainlabel, valdata, vallabel = split(alltraindata, alltrainlabel, x/100)\n",
        "  trainpred = NN(traindata, trainlabel, traindata)\n",
        "  trainAccuracy = Accuracy(trainlabel, trainpred)\n",
        "  print(\"Train accuracy using nearest neighbour is when traindata is\" ,x ,\"percent  \", trainAccuracy)\n",
        "  trainpred = RandomClassifier(traindata, trainlabel, traindata)\n",
        "  trainAccuracy = Accuracy(trainlabel, trainpred)\n",
        "  print(\"Train accuracy using random classifier is when traindata is\" ,x ,\"percent  \", trainAccuracy)\n",
        "  print(\"\")"
      ],
      "metadata": {
        "id": "411xIR4j_wT6",
        "outputId": "20fba07f-ca6b-47a0-bc1f-f2aa2ccd18be",
        "colab": {
          "base_uri": "https://localhost:8080/"
        }
      },
      "execution_count": 20,
      "outputs": [
        {
          "output_type": "stream",
          "name": "stdout",
          "text": [
            "Train accuracy using nearest neighbour is when traindata is 10 percent   1.0\n",
            "Train accuracy using random classifier is when traindata is 10 percent   0.17710843373493976\n",
            "\n",
            "Train accuracy using nearest neighbour is when traindata is 20 percent   1.0\n",
            "Train accuracy using random classifier is when traindata is 20 percent   0.16774004683840749\n",
            "\n",
            "Train accuracy using nearest neighbour is when traindata is 30 percent   1.0\n",
            "Train accuracy using random classifier is when traindata is 30 percent   0.17168494516450647\n",
            "\n",
            "Train accuracy using nearest neighbour is when traindata is 40 percent   1.0\n",
            "Train accuracy using random classifier is when traindata is 40 percent   0.16201959306706856\n",
            "\n",
            "Train accuracy using nearest neighbour is when traindata is 50 percent   1.0\n",
            "Train accuracy using random classifier is when traindata is 50 percent   0.16964285714285715\n",
            "\n",
            "Train accuracy using nearest neighbour is when traindata is 60 percent   1.0\n",
            "Train accuracy using random classifier is when traindata is 60 percent   0.16212382206910528\n",
            "\n",
            "Train accuracy using nearest neighbour is when traindata is 70 percent   1.0\n",
            "Train accuracy using random classifier is when traindata is 70 percent   0.16026030368763558\n",
            "\n",
            "Train accuracy using nearest neighbour is when traindata is 80 percent   1.0\n",
            "Train accuracy using random classifier is when traindata is 80 percent   0.1702176055804079\n",
            "\n",
            "Train accuracy using nearest neighbour is when traindata is 90 percent   1.0\n",
            "Train accuracy using random classifier is when traindata is 90 percent   0.17186138481131444\n",
            "\n"
          ]
        }
      ]
    },
    {
      "cell_type": "code",
      "source": [
        "a= [10,20,30,40,50,60,70,80,90]\n",
        "for x in a:\n",
        "  traindata, trainlabel, valdata, vallabel = split(alltraindata, alltrainlabel, x/100)\n",
        "  valpred = NN(traindata, trainlabel, valdata)\n",
        "  valAccuracy = Accuracy(vallabel, valpred)\n",
        "  print(\"Validation accuracy of nearest neighbour is when val is\", 100-x ,\"percent \", valAccuracy)\n",
        "  testpred = NN(alltraindata, alltrainlabel, testdata)\n",
        "  testAccuracy = Accuracy(testlabel, testpred)\n",
        "  print('Test accuracy is ', testAccuracy)\n",
        "  print(\"\")"
      ],
      "metadata": {
        "id": "0u7MiOC-B4zC",
        "outputId": "93a8f130-0134-4aeb-baa1-b984d2a8dc84",
        "colab": {
          "base_uri": "https://localhost:8080/"
        }
      },
      "execution_count": 19,
      "outputs": [
        {
          "output_type": "stream",
          "name": "stdout",
          "text": [
            "Validation accuracy of nearest neighbour is when val is 90 percent  0.2907313784967981\n",
            "Test accuracy is  0.34917953667953666\n",
            "\n",
            "Validation accuracy of nearest neighbour is when val is 80 percent  0.3106553655214167\n",
            "Test accuracy is  0.34917953667953666\n",
            "\n",
            "Validation accuracy of nearest neighbour is when val is 70 percent  0.31671858774662515\n",
            "Test accuracy is  0.34917953667953666\n",
            "\n",
            "Validation accuracy of nearest neighbour is when val is 60 percent  0.32164510913500405\n",
            "Test accuracy is  0.34917953667953666\n",
            "\n",
            "Validation accuracy of nearest neighbour is when val is 50 percent  0.3330494037478705\n",
            "Test accuracy is  0.34917953667953666\n",
            "\n",
            "Validation accuracy of nearest neighbour is when val is 40 percent  0.324357034795764\n",
            "Test accuracy is  0.34917953667953666\n",
            "\n",
            "Validation accuracy of nearest neighbour is when val is 30 percent  0.34146341463414637\n",
            "Test accuracy is  0.34917953667953666\n",
            "\n",
            "Validation accuracy of nearest neighbour is when val is 20 percent  0.33230484418389383\n",
            "Test accuracy is  0.34917953667953666\n",
            "\n",
            "Validation accuracy of nearest neighbour is when val is 10 percent  0.345475910693302\n",
            "Test accuracy is  0.34917953667953666\n",
            "\n"
          ]
        }
      ]
    },
    {
      "cell_type": "markdown",
      "source": [
        "3.What do you think is a good percentage to reserve for the validation set so that thest two factors are balanced?[link text](https://)\n",
        "3rd answer: since the validation accuracy is constant b/w 20-40 % its better to use 20-40% . the graph related to above:\n",
        "\n"
      ],
      "metadata": {
        "id": "N4qGPSmG_3vI"
      }
    },
    {
      "cell_type": "code",
      "source": [
        "plt.plot(axaxis,ayaxis)\n",
        "plt.xlabel(\" validation percentage\")\n",
        "plt.ylabel(\"validation accuracy\")\n",
        "plt.title(\"validation graph\")\n",
        "\n"
      ],
      "metadata": {
        "id": "cyHk740-AJvD",
        "outputId": "db1cadc0-f5b8-4703-e41a-18a98c89679d",
        "colab": {
          "base_uri": "https://localhost:8080/",
          "height": 489
        }
      },
      "execution_count": 21,
      "outputs": [
        {
          "output_type": "execute_result",
          "data": {
            "text/plain": [
              "Text(0.5, 1.0, 'validation graph')"
            ]
          },
          "metadata": {},
          "execution_count": 21
        },
        {
          "output_type": "display_data",
          "data": {
            "text/plain": [
              "<Figure size 640x480 with 1 Axes>"
            ],
            "image/png": "[encoded data removed]"
          },
          "metadata": {}
        }
      ]
    },
    {
      "cell_type": "markdown",
      "source": [],
      "metadata": {
        "id": "7d5_iRun_wGV"
      }
    },
    {
      "cell_type": "markdown",
      "metadata": {
        "id": "M9zvdYY6evgI"
      },
      "source": [
        "> Exercise: Try to implement a 3 nearest neighbour classifier and compare the accuracy of the 1 nearest neighbour classifier and the 3 nearest neighbour classifier on the test dataset. You can use the KNeighborsClassifier class from the scikit-learn library to implement the K-Nearest Neighbors model. You can set the number of neighbors using the n_neighbors parameter. You can also use the accuracy_score function from the scikit-learn library to calculate the accuracy of the model."
      ]
    },
    {
      "cell_type": "markdown",
      "source": [],
      "metadata": {
        "id": "pz4EdXlNCnui"
      }
    },
    {
      "cell_type": "code",
      "source": [
        "from sklearn import datasets\n",
        "from sklearn.model_selection import train_test_split\n",
        "from sklearn.preprocessing import StandardScaler\n",
        "from sklearn.neighbors import KNeighborsClassifier\n",
        "from sklearn.metrics import accuracy_score\n",
        "\n",
        "dataset = datasets.fetch_california_housing()\n",
        "\n",
        "# print(dataset.DESCR)\n",
        "\n",
        "X, y = dataset.data, dataset.target\n",
        "\n",
        "import numpy as np\n",
        "\n",
        "y = np.digitize(y, bins=np.percentile(y, [33, 66]))\n",
        "\n",
        "X_train, X_test, y_train, y_test = train_test_split(X, y, test_size=0.2, random_state=42)\n",
        "\n",
        "scaler = StandardScaler()\n",
        "X_train = scaler.fit_transform(X_train)\n",
        "X_test = scaler.transform(X_test)\n",
        "\n",
        "knn_1 = KNeighborsClassifier(n_neighbors=1)\n",
        "knn_1.fit(X_train, y_train)\n",
        "\n",
        "y_pred_1 = knn_1.predict(X_test)\n",
        "\n",
        "accuracy_1 = accuracy_score(y_test, y_pred_1)\n",
        "print(f\"Accuracy of 1-Nearest Neighbor: {accuracy_1:.4f}\")\n",
        "\n",
        "knn_3 = KNeighborsClassifier(n_neighbors=3)\n",
        "knn_3.fit(X_train, y_train)\n",
        "\n",
        "y_pred_3 = knn_3.predict(X_test)\n",
        "\n",
        "accuracy_3 = accuracy_score(y_test, y_pred_3)\n",
        "print(f\"Accuracy of 3-Nearest Neighbor: {accuracy_3:.4f}\")\n",
        "\n",
        "# Compare the two accuracies\n",
        "if accuracy_1 > accuracy_3:\n",
        "    print(\"1-Nearest Neighbor classifier performs better.\")\n",
        "elif accuracy_3 > accuracy_1:\n",
        "    print(\"3-Nearest Neighbor classifier performs better.\")\n",
        "else:\n",
        "    print(\"Both classifiers have the same accuracy.\")\n"
      ],
      "metadata": {
        "id": "pLMmGGr2C7pz",
        "outputId": "ca6769ac-9d0d-41a4-cdae-26010273e008",
        "colab": {
          "base_uri": "https://localhost:8080/"
        }
      },
      "execution_count": 24,
      "outputs": [
        {
          "output_type": "stream",
          "name": "stdout",
          "text": [
            "Accuracy of 1-Nearest Neighbor: 0.6950\n",
            "Accuracy of 3-Nearest Neighbor: 0.7054\n",
            "3-Nearest Neighbor classifier performs better.\n"
          ]
        }
      ]
    },
    {
      "cell_type": "markdown",
      "metadata": {
        "id": "PnYvkAZLQY7h"
      },
      "source": [
        "## Multiple Splits\n",
        "\n",
        "One way to get more accurate estimates for the test accuracy is by using <b>cross-validation</b>. Here, we will try a simple version, where we do multiple train/val splits and take the average of validation accuracies as the test accuracy estimation. Here is a function for doing this. Note that this function will take a long time to execute. You can reduce the number of splits to make it faster."
      ]
    },
    {
      "cell_type": "code",
      "execution_count": 26,
      "metadata": {
        "id": "E4nGCUQXBTzo"
      },
      "outputs": [],
      "source": [
        "def AverageAccuracy(alldata, alllabel, splitpercent, iterations, classifier=NN):\n",
        "    \"\"\"\n",
        "    This function takes in the data, labels, split percentage, number of iterations and classifier function\n",
        "    and returns the average accuracy of the classifier\n",
        "\n",
        "    alldata: numpy array of shape (n,d) where n is the number of samples and d is the number of features\n",
        "    alllabel: numpy array of shape (n,) where n is the number of samples\n",
        "    splitpercent: float which is the percentage of data to be used for training\n",
        "    iterations: int which is the number of iterations to run the classifier\n",
        "    classifier: function which is the classifier function to be used\n",
        "\n",
        "    returns: the average accuracy of the classifier\n",
        "    \"\"\"\n",
        "    accuracy = 0\n",
        "    for ii in range(iterations):\n",
        "        traindata, trainlabel, valdata, vallabel = split(\n",
        "            alldata, alllabel, splitpercent\n",
        "        )\n",
        "        valpred = classifier(traindata, trainlabel, valdata)\n",
        "        accuracy += Accuracy(vallabel, valpred)\n",
        "    return accuracy / iterations  # average of all accuracies"
      ]
    },
    {
      "cell_type": "code",
      "execution_count": 27,
      "metadata": {
        "colab": {
          "base_uri": "https://localhost:8080/"
        },
        "id": "H3qtNar7Bbik",
        "outputId": "9cae8c8b-3649-47b0-f4e8-4a749fd5a8b5"
      },
      "outputs": [
        {
          "output_type": "stream",
          "name": "stdout",
          "text": [
            "Average validation accuracy: 33.84583046098784 %\n",
            "Test accuracy: 34.91795366795367 %\n"
          ]
        }
      ],
      "source": [
        "avg_acc = AverageAccuracy(alltraindata, alltrainlabel, 75 / 100, 10, classifier=NN)\n",
        "print(\"Average validation accuracy:\", avg_acc*100, \"%\")\n",
        "testpred = NN(alltraindata, alltrainlabel, testdata)\n",
        "\n",
        "print(\"Test accuracy:\", Accuracy(testlabel, testpred)*100, \"%\")"
      ]
    },
    {
      "cell_type": "markdown",
      "source": [],
      "metadata": {
        "id": "GsdY-_sPDhhr"
      }
    },
    {
      "cell_type": "markdown",
      "metadata": {
        "id": "33GIn4x5VH-d"
      },
      "source": [
        "This is a very simple way of doing cross-validation. There are many well-known algorithms for cross-validation, like k-fold cross-validation, leave-one-out etc. This will be covered in detail in a later module. For more information about cross-validation, check <a href=https://en.wikipedia.org/wiki/Cross-validation_(statistics)>Cross-validatioin (Wikipedia)</a>\n",
        "\n",
        "### Questions\n",
        "1. Does averaging the validation accuracy across multiple splits give more consistent results?\n",
        "2. Does it give more accurate estimate of test accuracy?\n",
        "3. What is the effect of the number of iterations on the estimate? Do we get a better estimate with higher iterations?\n",
        "4. Consider the results you got for the previous questions. Can we deal with a very small train dataset or validation dataset by increasing the iterations?\n"
      ]
    },
    {
      "cell_type": "code",
      "source": [
        "iterations=[ 5,10,15,20]\n",
        "byaxis=[]\n",
        "bxaxis=[]\n",
        "for x in iterations:\n",
        "  print('Average validation accuracy for',x,'iteartions is', AverageAccuracy(alltraindata, alltrainlabel, 75/100, x, classifier=NN))\n",
        "  testpred = NN(alltraindata, alltrainlabel, testdata)\n",
        "  print('test accuracy for ',x,'iterations is ',Accuracy(testlabel, testpred) )\n",
        "  byaxis.append(Accuracy(testlabel, testpred))\n",
        "  bxaxis.append(x)"
      ],
      "metadata": {
        "id": "QPqXseMWEPVm",
        "outputId": "42969203-b289-48ef-b00a-2527a4ee7519",
        "colab": {
          "base_uri": "https://localhost:8080/"
        }
      },
      "execution_count": 30,
      "outputs": [
        {
          "output_type": "stream",
          "name": "stdout",
          "text": [
            "Average validation accuracy for 5 iteartions is 0.3380066017176258\n",
            "test accuracy for  5 iterations is  0.34917953667953666\n",
            "Average validation accuracy for 10 iteartions is 0.34019257947142423\n",
            "test accuracy for  10 iterations is  0.34917953667953666\n",
            "Average validation accuracy for 15 iteartions is 0.33866952687891916\n",
            "test accuracy for  15 iterations is  0.34917953667953666\n",
            "Average validation accuracy for 20 iteartions is 0.3420008291237199\n",
            "test accuracy for  20 iterations is  0.34917953667953666\n"
          ]
        }
      ]
    },
    {
      "cell_type": "code",
      "source": [
        "plt.plot(bxaxis,byaxis)\n",
        "plt.xlabel(\"NO of iterations\")\n",
        "plt.ylabel(\"avg accuracy \")\n",
        "plt.title(\"accuracies with respect to iterations\")"
      ],
      "metadata": {
        "id": "R4mtNvHIErk3",
        "outputId": "6c7371c4-4188-4044-8496-c5e2626abdf2",
        "colab": {
          "base_uri": "https://localhost:8080/",
          "height": 489
        }
      },
      "execution_count": 31,
      "outputs": [
        {
          "output_type": "execute_result",
          "data": {
            "text/plain": [
              "Text(0.5, 1.0, 'accuracies with respect to iterations')"
            ]
          },
          "metadata": {},
          "execution_count": 31
        },
        {
          "output_type": "display_data",
          "data": {
            "text/plain": [
              "<Figure size 640x480 with 1 Axes>"
            ],
            "image/png": "[encoded data removed]"
          },
          "metadata": {}
        }
      ]
    },
    {
      "cell_type": "markdown",
      "source": [],
      "metadata": {
        "id": "shcQolYgDk9h"
      }
    },
    {
      "cell_type": "markdown",
      "source": [
        "1 answer : As we are averaging the accuracy across multiple splits we get an avg point/value to which any new test accuracy pouint/value will be close with less ammount of difference\n",
        "\n",
        "2 answer: Since the test data(20%) is completely different from the validation and training data (80(validation+training), 20(test)) .. accuracy of test data remains mostly constant even though on averaging the validation data across multiple splits\n",
        "\n",
        "3 answer: the more number of iterations the more specific the avg will be. it doesnt mean that the validation avg gets changed drastically on increasing the iterations but there will change in the right most decimal part mostly of the validation accuracy avg value or other words we can say that the avg remains almost same/constant\n",
        "\n",
        "4 answer : The question is not clear for me so thought of answering in 2 cases . case a: if the answer has to be with respect to test data then small train/validation data set may lead to decrease in accuaracy of test data even we iterate the train and validation data multiple time as we know that the more training given the best the test accuracy will be case b:considering only training data/validation data not the test data. whatever the data set may be small or big .. increasing the iteration leads to improvement of validation accuaracy ( mostly right mostt decimal part ) or simple we can say that the accuracy remains constant"
      ],
      "metadata": {
        "id": "Yt035SbhELKU"
      }
    },
    {
      "cell_type": "markdown",
      "metadata": {
        "id": "z-SBxy1qevgJ"
      },
      "source": [
        "> Exercise: How does the accuracy of the 3 nearest neighbour classifier change with the number of splits? How is it affected by the split size? Compare the results with the 1 nearest neighbour classifier."
      ]
    },
    {
      "cell_type": "code",
      "source": [
        "from sklearn import datasets\n",
        "from sklearn.model_selection import cross_val_score, KFold\n",
        "from sklearn.preprocessing import StandardScaler\n",
        "from sklearn.neighbors import KNeighborsClassifier\n",
        "import numpy as np\n",
        "import matplotlib.pyplot as plt\n",
        "\n",
        "# Load the California Housing dataset\n",
        "dataset = datasets.fetch_california_housing()\n",
        "X, y = dataset.data, dataset.target\n",
        "y = np.digitize(y, bins=np.percentile(y, [33, 66]))\n",
        "scaler = StandardScaler()\n",
        "X = scaler.fit_transform(X)\n",
        "\n",
        "split_sizes = [3, 5, 10, 15]\n",
        "accuracies_1nn = []\n",
        "accuracies_3nn = []\n",
        "\n",
        "for splits in split_sizes:\n",
        "    kf = KFold(n_splits=splits, shuffle=True, random_state=42)\n",
        "\n",
        "    # 1-Nearest Neighbor Classifier\n",
        "    knn_1 = KNeighborsClassifier(n_neighbors=1)\n",
        "    scores_1nn = cross_val_score(knn_1, X, y, cv=kf, scoring='accuracy')\n",
        "    accuracies_1nn.append(np.mean(scores_1nn))\n",
        "\n",
        "    # 3-Nearest Neighbor Classifier\n",
        "    knn_3 = KNeighborsClassifier(n_neighbors=3)\n",
        "    scores_3nn = cross_val_score(knn_3, X, y, cv=kf, scoring='accuracy')\n",
        "    accuracies_3nn.append(np.mean(scores_3nn))\n",
        "\n",
        "    print(f\"Splits: {splits}\")\n",
        "    print(f\"1-NN Accuracy: {np.mean(scores_1nn):.4f}\")\n",
        "    print(f\"3-NN Accuracy: {np.mean(scores_3nn):.4f}\")\n",
        "    print(\"-\" * 30)\n",
        "\n",
        "# Plot the results\n",
        "plt.figure(figsize=(10, 6))\n",
        "plt.plot(split_sizes, accuracies_1nn, marker='o', label='1-NN Accuracy')\n",
        "plt.plot(split_sizes, accuracies_3nn, marker='o', label='3-NN Accuracy')\n",
        "plt.xlabel('Number of Splits')\n",
        "plt.ylabel('Accuracy')\n",
        "plt.title('Accuracy vs. Number of Splits for 1-NN and 3-NN Classifiers')\n",
        "plt.legend()\n",
        "plt.grid(True)\n",
        "plt.show()\n"
      ],
      "metadata": {
        "id": "dZLjtYcrFrzi",
        "outputId": "a412fb35-268e-4463-a9c3-dcf32fc9d1f9",
        "colab": {
          "base_uri": "https://localhost:8080/",
          "height": 842
        }
      },
      "execution_count": 32,
      "outputs": [
        {
          "output_type": "stream",
          "name": "stdout",
          "text": [
            "Splits: 3\n",
            "1-NN Accuracy: 0.6851\n",
            "3-NN Accuracy: 0.7011\n",
            "------------------------------\n",
            "Splits: 5\n",
            "1-NN Accuracy: 0.6886\n",
            "3-NN Accuracy: 0.7063\n",
            "------------------------------\n",
            "Splits: 10\n",
            "1-NN Accuracy: 0.6892\n",
            "3-NN Accuracy: 0.7066\n",
            "------------------------------\n",
            "Splits: 15\n",
            "1-NN Accuracy: 0.6900\n",
            "3-NN Accuracy: 0.7063\n",
            "------------------------------\n"
          ]
        },
        {
          "output_type": "display_data",
          "data": {
            "text/plain": [
              "<Figure size 1000x600 with 1 Axes>"
            ],
            "image/png": "[encoded data removed]"
          },
          "metadata": {}
        }
      ]
    },
    {
      "cell_type": "markdown",
      "source": [
        "Higher Split Sizes (e.g., 12 or 15): Generally lead to more stable accuracy estimates for both 1-NN and 3-NN, with 3-NN often outperforming 1-NN.\n",
        "Small Split Sizes: May result in more variance in accuracy, especially in smaller datasets.\n",
        "Overall Performance: The 3-NN classifier tends to perform better in most cases, especially as the number of splits increases, leading to more robust accuracy estimates."
      ],
      "metadata": {
        "id": "2KBvQo5OFzBF"
      }
    }
  ],
  "metadata": {
    "colab": {
      "provenance": [],
      "include_colab_link": true
    },
    "kernelspec": {
      "display_name": "Python 3",
      "name": "python3"
    },
    "language_info": {
      "codemirror_mode": {
        "name": "ipython",
        "version": 3
      },
      "file_extension": ".py",
      "mimetype": "text/x-python",
      "name": "python",
      "nbconvert_exporter": "python",
      "pygments_lexer": "ipython3",
      "version": "3.10.10"
    }
  },
  "nbformat": 4,
  "nbformat_minor": 0
}